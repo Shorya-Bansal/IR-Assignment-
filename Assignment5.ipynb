{
  "nbformat": 4,
  "nbformat_minor": 0,
  "metadata": {
    "colab": {
      "name": "Assignment5.ipynb",
      "provenance": [],
      "authorship_tag": "ABX9TyN5yv5MqYpwq+O3KmTdPNmH",
      "include_colab_link": true
    },
    "kernelspec": {
      "name": "python3",
      "display_name": "Python 3"
    },
    "language_info": {
      "name": "python"
    }
  },
  "cells": [
    {
      "cell_type": "markdown",
      "metadata": {
        "id": "view-in-github",
        "colab_type": "text"
      },
      "source": [
        "<a href=\"https://colab.research.google.com/github/Shorya-Bansal/IR-Assignment-/blob/main/Assignment5.ipynb\" target=\"_parent\"><img src=\"https://colab.research.google.com/assets/colab-badge.svg\" alt=\"Open In Colab\"/></a>"
      ]
    },
    {
      "cell_type": "code",
      "metadata": {
        "id": "ReERidulGJtu"
      },
      "source": [
        "# importing all modules\n",
        "import pandas as pd\n",
        "import math\n",
        "import random\n",
        "import matplotlib.pyplot as plt\n",
        "from sklearn.model_selection import train_test_split\n",
        "from keras import models\n",
        "from keras import layers\n",
        "from keras import regularizers\n",
        "import numpy as np"
      ],
      "execution_count": 1,
      "outputs": []
    },
    {
      "cell_type": "code",
      "metadata": {
        "id": "6rDGTL_TGPgP"
      },
      "source": [
        "l1 = l2 = l3 = 7 # length"
      ],
      "execution_count": 2,
      "outputs": []
    },
    {
      "cell_type": "code",
      "metadata": {
        "id": "X0skYVzRGWr1"
      },
      "source": [
        "def three_link_manipulator_dataset():\n",
        "    rows = []\n",
        "    for i in range(1, 100000):\n",
        "        theta1 = round(random.uniform(0, math.pi), 2)\n",
        "        theta2 = round(random.uniform(-math.pi, 0), 2)\n",
        "        theta3 = round(random.uniform(-math.pi/2, math.pi/2), 2)\n",
        "        \n",
        "        x = round(l1*math.cos(theta1)+l2*math.cos(theta1+theta2)+l3*math.cos(theta1+theta2+theta3), 2)\n",
        "        y = round(l1*math.sin(theta1)+l2*math.sin(theta1+theta2)+l3*math.sin(theta1+theta2+theta3), 2)\n",
        "        phi = round(math.degrees(theta1)+math.degrees(theta2)+math.degrees(theta3), 2)\n",
        "        \n",
        "        rows.append([theta1, theta2, theta3, x, y, phi])\n",
        "\n",
        "    df = pd.DataFrame(rows, columns=['theta1', 'theta2', 'theta3', 'x', 'y', 'phi'])\n",
        "    df.to_csv('three_link.csv', index=False)\n",
        "    \n",
        "three_link_manipulator_dataset()"
      ],
      "execution_count": 3,
      "outputs": []
    },
    {
      "cell_type": "code",
      "metadata": {
        "colab": {
          "base_uri": "https://localhost:8080/",
          "height": 195
        },
        "id": "bbJAMN2lGXBj",
        "outputId": "a4f51a66-1b69-4fdc-ac91-d6d8945bde69"
      },
      "source": [
        "three_link_data = pd.read_csv('three_link.csv')\n",
        "three_link_data.head()"
      ],
      "execution_count": 4,
      "outputs": [
        {
          "output_type": "execute_result",
          "data": {
            "text/html": [
              "<div>\n",
              "<style scoped>\n",
              "    .dataframe tbody tr th:only-of-type {\n",
              "        vertical-align: middle;\n",
              "    }\n",
              "\n",
              "    .dataframe tbody tr th {\n",
              "        vertical-align: top;\n",
              "    }\n",
              "\n",
              "    .dataframe thead th {\n",
              "        text-align: right;\n",
              "    }\n",
              "</style>\n",
              "<table border=\"1\" class=\"dataframe\">\n",
              "  <thead>\n",
              "    <tr style=\"text-align: right;\">\n",
              "      <th></th>\n",
              "      <th>theta1</th>\n",
              "      <th>theta2</th>\n",
              "      <th>theta3</th>\n",
              "      <th>x</th>\n",
              "      <th>y</th>\n",
              "      <th>phi</th>\n",
              "    </tr>\n",
              "  </thead>\n",
              "  <tbody>\n",
              "    <tr>\n",
              "      <th>0</th>\n",
              "      <td>1.39</td>\n",
              "      <td>-0.16</td>\n",
              "      <td>-0.88</td>\n",
              "      <td>10.17</td>\n",
              "      <td>15.88</td>\n",
              "      <td>20.05</td>\n",
              "    </tr>\n",
              "    <tr>\n",
              "      <th>1</th>\n",
              "      <td>2.23</td>\n",
              "      <td>-2.58</td>\n",
              "      <td>-1.10</td>\n",
              "      <td>3.13</td>\n",
              "      <td>-3.82</td>\n",
              "      <td>-83.08</td>\n",
              "    </tr>\n",
              "    <tr>\n",
              "      <th>2</th>\n",
              "      <td>0.56</td>\n",
              "      <td>-0.95</td>\n",
              "      <td>-0.16</td>\n",
              "      <td>18.37</td>\n",
              "      <td>-2.60</td>\n",
              "      <td>-31.51</td>\n",
              "    </tr>\n",
              "    <tr>\n",
              "      <th>3</th>\n",
              "      <td>2.06</td>\n",
              "      <td>-0.02</td>\n",
              "      <td>0.98</td>\n",
              "      <td>-13.40</td>\n",
              "      <td>13.27</td>\n",
              "      <td>173.03</td>\n",
              "    </tr>\n",
              "    <tr>\n",
              "      <th>4</th>\n",
              "      <td>0.18</td>\n",
              "      <td>-3.05</td>\n",
              "      <td>0.81</td>\n",
              "      <td>-3.15</td>\n",
              "      <td>-6.80</td>\n",
              "      <td>-118.03</td>\n",
              "    </tr>\n",
              "  </tbody>\n",
              "</table>\n",
              "</div>"
            ],
            "text/plain": [
              "   theta1  theta2  theta3      x      y     phi\n",
              "0    1.39   -0.16   -0.88  10.17  15.88   20.05\n",
              "1    2.23   -2.58   -1.10   3.13  -3.82  -83.08\n",
              "2    0.56   -0.95   -0.16  18.37  -2.60  -31.51\n",
              "3    2.06   -0.02    0.98 -13.40  13.27  173.03\n",
              "4    0.18   -3.05    0.81  -3.15  -6.80 -118.03"
            ]
          },
          "metadata": {
            "tags": []
          },
          "execution_count": 4
        }
      ]
    },
    {
      "cell_type": "code",
      "metadata": {
        "colab": {
          "base_uri": "https://localhost:8080/",
          "height": 265
        },
        "id": "armbXmLnGZ_z",
        "outputId": "4f0522de-e469-42f0-fed5-0d8b0c9b2658"
      },
      "source": [
        "plt.scatter(three_link_data['x'], three_link_data['y'])\n",
        "plt.show()"
      ],
      "execution_count": 5,
      "outputs": [
        {
          "output_type": "display_data",
          "data": {
            "image/png": "[encoded data removed]",
            "text/plain": [
              "<Figure size 432x288 with 1 Axes>"
            ]
          },
          "metadata": {
            "tags": [],
            "needs_background": "light"
          }
        }
      ]
    },
    {
      "cell_type": "code",
      "metadata": {
        "id": "_Rk0YpGyGfot"
      },
      "source": [
        "# Splitting training and testing dataset\n",
        "X = three_link_data[['x', 'y', 'phi']]\n",
        "y = three_link_data[['theta1', 'theta2', 'theta3']]\n",
        "train_X, test_X, train_y, test_y = train_test_split(X, y, test_size=0.1)"
      ],
      "execution_count": 7,
      "outputs": []
    },
    {
      "cell_type": "code",
      "metadata": {
        "colab": {
          "base_uri": "https://localhost:8080/"
        },
        "id": "R9krkCm9GiAH",
        "outputId": "44913f4c-ccae-4ca6-8290-5211cd096bd6"
      },
      "source": [
        "\n",
        "# Defining model\n",
        "\n",
        "model = models.Sequential()\n",
        "model.add(layers.Dense(units=3, input_dim=3, kernel_initializer='uniform'))\n",
        "model.add(layers.Dense(units=100, kernel_initializer='uniform', activation='relu'))\n",
        "model.add(layers.Dense(units=100, kernel_initializer='uniform', activation='relu'))\n",
        "model.add(layers.Dense(units=3, kernel_initializer = 'uniform', activation='linear'))\n",
        "\n",
        "model.summary()"
      ],
      "execution_count": 8,
      "outputs": [
        {
          "output_type": "stream",
          "text": [
            "Model: \"sequential\"\n",
            "_________________________________________________________________\n",
            "Layer (type)                 Output Shape              Param #   \n",
            "=================================================================\n",
            "dense (Dense)                (None, 3)                 12        \n",
            "_________________________________________________________________\n",
            "dense_1 (Dense)              (None, 100)               400       \n",
            "_________________________________________________________________\n",
            "dense_2 (Dense)              (None, 100)               10100     \n",
            "_________________________________________________________________\n",
            "dense_3 (Dense)              (None, 3)                 303       \n",
            "=================================================================\n",
            "Total params: 10,815\n",
            "Trainable params: 10,815\n",
            "Non-trainable params: 0\n",
            "_________________________________________________________________\n"
          ],
          "name": "stdout"
        }
      ]
    },
    {
      "cell_type": "code",
      "metadata": {
        "id": "VI_P8aeYGkyT"
      },
      "source": [
        "model.compile(optimizer='adam', loss='mean_squared_error', metrics=['accuracy'])\n"
      ],
      "execution_count": 9,
      "outputs": []
    },
    {
      "cell_type": "code",
      "metadata": {
        "colab": {
          "base_uri": "https://localhost:8080/"
        },
        "id": "rJXh0Fk8GpPl",
        "outputId": "6d6a584d-e8ab-43dd-8788-202d429f391f"
      },
      "source": [
        "# training model\n",
        "history = model.fit(train_X, train_y, epochs=30, validation_split=0.1, shuffle=True)"
      ],
      "execution_count": 10,
      "outputs": [
        {
          "output_type": "stream",
          "text": [
            "Epoch 1/30\n",
            "2532/2532 [==============================] - 6s 2ms/step - loss: 0.4171 - accuracy: 0.9100 - val_loss: 0.0382 - val_accuracy: 0.9653\n",
            "Epoch 2/30\n",
            "2532/2532 [==============================] - 4s 2ms/step - loss: 0.0349 - accuracy: 0.9632 - val_loss: 0.0279 - val_accuracy: 0.9686\n",
            "Epoch 3/30\n",
            "2532/2532 [==============================] - 5s 2ms/step - loss: 0.0262 - accuracy: 0.9696 - val_loss: 0.0212 - val_accuracy: 0.9762\n",
            "Epoch 4/30\n",
            "2532/2532 [==============================] - 5s 2ms/step - loss: 0.0225 - accuracy: 0.9728 - val_loss: 0.0262 - val_accuracy: 0.9641\n",
            "Epoch 5/30\n",
            "2532/2532 [==============================] - 5s 2ms/step - loss: 0.0204 - accuracy: 0.9740 - val_loss: 0.0316 - val_accuracy: 0.9724\n",
            "Epoch 6/30\n",
            "2532/2532 [==============================] - 5s 2ms/step - loss: 0.0183 - accuracy: 0.9763 - val_loss: 0.0174 - val_accuracy: 0.9794\n",
            "Epoch 7/30\n",
            "2532/2532 [==============================] - 5s 2ms/step - loss: 0.0174 - accuracy: 0.9766 - val_loss: 0.0152 - val_accuracy: 0.9834\n",
            "Epoch 8/30\n",
            "2532/2532 [==============================] - 5s 2ms/step - loss: 0.0170 - accuracy: 0.9766 - val_loss: 0.0124 - val_accuracy: 0.9734\n",
            "Epoch 9/30\n",
            "2532/2532 [==============================] - 4s 2ms/step - loss: 0.0159 - accuracy: 0.9772 - val_loss: 0.0132 - val_accuracy: 0.9754\n",
            "Epoch 10/30\n",
            "2532/2532 [==============================] - 4s 2ms/step - loss: 0.0157 - accuracy: 0.9788 - val_loss: 0.0206 - val_accuracy: 0.9806\n",
            "Epoch 11/30\n",
            "2532/2532 [==============================] - 4s 2ms/step - loss: 0.0153 - accuracy: 0.9787 - val_loss: 0.0109 - val_accuracy: 0.9793\n",
            "Epoch 12/30\n",
            "2532/2532 [==============================] - 4s 2ms/step - loss: 0.0148 - accuracy: 0.9786 - val_loss: 0.0159 - val_accuracy: 0.9840\n",
            "Epoch 13/30\n",
            "2532/2532 [==============================] - 4s 2ms/step - loss: 0.0143 - accuracy: 0.9814 - val_loss: 0.0124 - val_accuracy: 0.9822\n",
            "Epoch 14/30\n",
            "2532/2532 [==============================] - 4s 2ms/step - loss: 0.0143 - accuracy: 0.9819 - val_loss: 0.0124 - val_accuracy: 0.9790\n",
            "Epoch 15/30\n",
            "2532/2532 [==============================] - 4s 2ms/step - loss: 0.0142 - accuracy: 0.9801 - val_loss: 0.0103 - val_accuracy: 0.9838\n",
            "Epoch 16/30\n",
            "2532/2532 [==============================] - 4s 2ms/step - loss: 0.0132 - accuracy: 0.9824 - val_loss: 0.0108 - val_accuracy: 0.9857\n",
            "Epoch 17/30\n",
            "2532/2532 [==============================] - 4s 2ms/step - loss: 0.0141 - accuracy: 0.9832 - val_loss: 0.0164 - val_accuracy: 0.9838\n",
            "Epoch 18/30\n",
            "2532/2532 [==============================] - 4s 2ms/step - loss: 0.0133 - accuracy: 0.9824 - val_loss: 0.0123 - val_accuracy: 0.9844\n",
            "Epoch 19/30\n",
            "2532/2532 [==============================] - 4s 2ms/step - loss: 0.0124 - accuracy: 0.9840 - val_loss: 0.0109 - val_accuracy: 0.9864\n",
            "Epoch 20/30\n",
            "2532/2532 [==============================] - 4s 2ms/step - loss: 0.0128 - accuracy: 0.9837 - val_loss: 0.0190 - val_accuracy: 0.9771\n",
            "Epoch 21/30\n",
            "2532/2532 [==============================] - 4s 2ms/step - loss: 0.0127 - accuracy: 0.9831 - val_loss: 0.0158 - val_accuracy: 0.9792\n",
            "Epoch 22/30\n",
            "2532/2532 [==============================] - 4s 2ms/step - loss: 0.0125 - accuracy: 0.9844 - val_loss: 0.0131 - val_accuracy: 0.9850\n",
            "Epoch 23/30\n",
            "2532/2532 [==============================] - 4s 2ms/step - loss: 0.0112 - accuracy: 0.9849 - val_loss: 0.0117 - val_accuracy: 0.9882\n",
            "Epoch 24/30\n",
            "2532/2532 [==============================] - 4s 2ms/step - loss: 0.0119 - accuracy: 0.9844 - val_loss: 0.0105 - val_accuracy: 0.9773\n",
            "Epoch 25/30\n",
            "2532/2532 [==============================] - 4s 2ms/step - loss: 0.0114 - accuracy: 0.9849 - val_loss: 0.0140 - val_accuracy: 0.9869\n",
            "Epoch 26/30\n",
            "2532/2532 [==============================] - 4s 2ms/step - loss: 0.0117 - accuracy: 0.9858 - val_loss: 0.0089 - val_accuracy: 0.9871\n",
            "Epoch 27/30\n",
            "2532/2532 [==============================] - 4s 2ms/step - loss: 0.0113 - accuracy: 0.9850 - val_loss: 0.0108 - val_accuracy: 0.9876\n",
            "Epoch 28/30\n",
            "2532/2532 [==============================] - 4s 2ms/step - loss: 0.0113 - accuracy: 0.9844 - val_loss: 0.0111 - val_accuracy: 0.9782\n",
            "Epoch 29/30\n",
            "2532/2532 [==============================] - 4s 2ms/step - loss: 0.0109 - accuracy: 0.9860 - val_loss: 0.0100 - val_accuracy: 0.9867\n",
            "Epoch 30/30\n",
            "2532/2532 [==============================] - 4s 2ms/step - loss: 0.0111 - accuracy: 0.9847 - val_loss: 0.0151 - val_accuracy: 0.9897\n"
          ],
          "name": "stdout"
        }
      ]
    },
    {
      "cell_type": "code",
      "metadata": {
        "colab": {
          "base_uri": "https://localhost:8080/",
          "height": 573
        },
        "id": "9pnxuVRMGsgT",
        "outputId": "ff8970c6-9e5e-4676-8e22-ae82dbe038d4"
      },
      "source": [
        "# Plotting model accuracy\n",
        "plt.plot(history.history['accuracy'])\n",
        "plt.plot(history.history['val_accuracy'])\n",
        "plt.title('Model Accuracy')\n",
        "plt.ylabel('Accuracy')\n",
        "plt.xlabel('epoch')\n",
        "plt.legend(['train', 'val'], loc='upper left')\n",
        "plt.show()\n",
        "\n",
        "# Plotting model loss\n",
        "plt.plot(history.history['loss'])\n",
        "plt.plot(history.history['val_loss'])\n",
        "plt.title('model loss')\n",
        "plt.ylabel('loss')\n",
        "plt.xlabel('epoch')\n",
        "plt.legend(['train', 'val'], loc='upper left')\n",
        "plt.show()"
      ],
      "execution_count": 11,
      "outputs": [
        {
          "output_type": "display_data",
          "data": {
            "image/png": "[encoded data removed]",
            "text/plain": [
              "<Figure size 432x288 with 1 Axes>"
            ]
          },
          "metadata": {
            "tags": [],
            "needs_background": "light"
          }
        },
        {
          "output_type": "display_data",
          "data": {
            "image/png": "[encoded data removed]",
            "text/plain": [
              "<Figure size 432x288 with 1 Axes>"
            ]
          },
          "metadata": {
            "tags": [],
            "needs_background": "light"
          }
        }
      ]
    },
    {
      "cell_type": "code",
      "metadata": {
        "colab": {
          "base_uri": "https://localhost:8080/"
        },
        "id": "VSeyG2x-Gt4R",
        "outputId": "244e4a1c-b0bc-495b-e130-b29410edbe0e"
      },
      "source": [
        "# Evaluating the model on test set\n",
        "\n",
        "test_loss, test_acc = model.evaluate(test_X, test_y)\n",
        "\n",
        "print('\\nTesting Loss = ', test_loss) \n",
        "print('Testing Accuracy = ', test_acc)"
      ],
      "execution_count": 12,
      "outputs": [
        {
          "output_type": "stream",
          "text": [
            "313/313 [==============================] - 0s 962us/step - loss: 0.0136 - accuracy: 0.9884\n",
            "\n",
            "Testing Loss =  0.013570042327046394\n",
            "Testing Accuracy =  0.9883999824523926\n"
          ],
          "name": "stdout"
        }
      ]
    },
    {
      "cell_type": "code",
      "metadata": {
        "id": "jFTC9KrnGyAU"
      },
      "source": [
        "def iiitm_dataset():\n",
        "    rows = []\n",
        "    # for I\n",
        "    arr = np.linspace(5, 7, 100)\n",
        "    for y in arr:\n",
        "        x = 6\n",
        "        theta = math.degrees(math.atan(y/x))\n",
        "        rows.append([x, y, theta])\n",
        "\n",
        "    # for I\n",
        "    arr = np.linspace(5, 7, 100)\n",
        "    for y in arr:\n",
        "        x = 7\n",
        "        theta = math.degrees(math.atan(y/x))\n",
        "        rows.append([x, y, theta])\n",
        "\n",
        "    # for I\n",
        "    arr = np.linspace(5, 7, 100)\n",
        "    for y in arr:\n",
        "        x = 8\n",
        "        theta = math.degrees(math.atan(y/x))\n",
        "        rows.append([x, y, theta])\n",
        "\n",
        "    # for T\n",
        "    arr = np.linspace(9, 10, 100)\n",
        "    for x in arr:\n",
        "        y = 7\n",
        "        theta = math.degrees(math.atan(y/x))\n",
        "        rows.append([x, y, theta])\n",
        "\n",
        "    arr = np.linspace(5, 7, 100)\n",
        "    for y in arr:\n",
        "        x = 9.5\n",
        "        theta = math.degrees(math.atan(y/x))\n",
        "        rows.append([x, y, theta])\n",
        "# for M\n",
        "    arr = np.linspace(5, 7, 100)\n",
        "    for y in arr:\n",
        "        x = 11\n",
        "        theta = math.degrees(math.atan(y/x))\n",
        "        rows.append([x, y, theta])\n",
        "\n",
        "    arr = np.linspace(5, 7, 100)\n",
        "    for y in arr:\n",
        "        x = ((-y)+29)/2\n",
        "        theta = math.degrees(math.atan(y/x))\n",
        "        rows.append([x, y, theta])\n",
        "\n",
        "    arr = np.linspace(5, 7, 100)\n",
        "    for y in arr:\n",
        "        x = ((y)+19)/2\n",
        "        theta = math.degrees(math.atan(y/x))\n",
        "        rows.append([x, y, theta])\n",
        "\n",
        "    arr = np.linspace(5, 7, 100)\n",
        "    for y in arr:\n",
        "        x = 13\n",
        "        theta = math.degrees(math.atan(y/x))\n",
        "        rows.append([x, y, theta])\n",
        "\n",
        "    df = pd.DataFrame(rows, columns=['x', 'y', 'theta'])\n",
        "    df.to_csv('iiitm.csv', index=False)\n",
        "    \n",
        "iiitm_dataset()"
      ],
      "execution_count": 13,
      "outputs": []
    },
    {
      "cell_type": "code",
      "metadata": {
        "id": "o_zMzKT0G_N5"
      },
      "source": [
        "def three_link_forward_kinematics(theta1, theta2, theta3):\n",
        "    x = (np.cos(theta1)*l1)+(np.cos(theta1+theta2)*l2)+(np.cos(theta1+theta2+theta3)*l3)\n",
        "    y = (np.sin(theta1)*l1)+(np.sin(theta1+theta2)*l2)+(np.sin(theta1+theta2+theta3)*l3)\n",
        "\n",
        "    return x, y\n",
        "    "
      ],
      "execution_count": 14,
      "outputs": []
    },
    {
      "cell_type": "markdown",
      "metadata": {
        "id": "lseyZ2zbHR-v"
      },
      "source": [
        "Testing the model on IIITM database"
      ]
    },
    {
      "cell_type": "code",
      "metadata": {
        "id": "-xjNQK9SHBqW"
      },
      "source": [
        "iiitm_data = pd.read_csv('iiitm.csv')\n",
        "iiitm_predictions = model.predict(iiitm_data.values)\n",
        "x_predictions, y_predictions = three_link_forward_kinematics(iiitm_predictions[:,0], iiitm_predictions[:,1], iiitm_predictions[:,2])"
      ],
      "execution_count": 15,
      "outputs": []
    },
    {
      "cell_type": "markdown",
      "metadata": {
        "id": "s6fQKXgrHaMd"
      },
      "source": [
        "Plotting Orignal data, Predicted Data and both of the simuntaneously"
      ]
    },
    {
      "cell_type": "code",
      "metadata": {
        "colab": {
          "base_uri": "https://localhost:8080/",
          "height": 761
        },
        "id": "gCLNhEj7HIM6",
        "outputId": "c3a1f589-3f1f-42e3-ff03-3ad5bfc719fe"
      },
      "source": [
        "plt.plot(iiitm_data['x'], iiitm_data['y'], 'go')\n",
        "plt.show()\n",
        "\n",
        "# Predicted\n",
        "plt.plot(x_predictions, y_predictions, 'bo')\n",
        "plt.show()\n",
        "\n",
        "# Original and Predicted\n",
        "plt.plot(iiitm_data['x'], iiitm_data['y'], 'go')\n",
        "plt.plot(x_predictions, y_predictions, 'bo')\n",
        "plt.show()"
      ],
      "execution_count": 16,
      "outputs": [
        {
          "output_type": "display_data",
          "data": {
            "image/png": "[encoded data removed]",
            "text/plain": [
              "<Figure size 432x288 with 1 Axes>"
            ]
          },
          "metadata": {
            "tags": [],
            "needs_background": "light"
          }
        },
        {
          "output_type": "display_data",
          "data": {
            "image/png": "[encoded data removed]",
            "text/plain": [
              "<Figure size 432x288 with 1 Axes>"
            ]
          },
          "metadata": {
            "tags": [],
            "needs_background": "light"
          }
        },
        {
          "output_type": "display_data",
          "data": {
            "image/png": "[encoded data removed]",
            "text/plain": [
              "<Figure size 432x288 with 1 Axes>"
            ]
          },
          "metadata": {
            "tags": [],
            "needs_background": "light"
          }
        }
      ]
    }
  ]
}